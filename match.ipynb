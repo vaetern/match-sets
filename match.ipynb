{
 "cells": [
  {
   "cell_type": "markdown",
   "metadata": {},
   "source": [
    "# IMPORT DATASET FROM CSV"
   ]
  },
  {
   "cell_type": "code",
   "execution_count": 3,
   "metadata": {},
   "outputs": [
    {
     "data": {
      "text/html": [
       "<div>\n",
       "<style scoped>\n",
       "    .dataframe tbody tr th:only-of-type {\n",
       "        vertical-align: middle;\n",
       "    }\n",
       "\n",
       "    .dataframe tbody tr th {\n",
       "        vertical-align: top;\n",
       "    }\n",
       "\n",
       "    .dataframe thead th {\n",
       "        text-align: right;\n",
       "    }\n",
       "</style>\n",
       "<table border=\"1\" class=\"dataframe\">\n",
       "  <thead>\n",
       "    <tr style=\"text-align: right;\">\n",
       "      <th></th>\n",
       "      <th>uic_1</th>\n",
       "      <th>country_1</th>\n",
       "      <th>name_1</th>\n",
       "      <th>lon_1</th>\n",
       "      <th>lat_1</th>\n",
       "      <th>uic_2</th>\n",
       "      <th>country_2</th>\n",
       "      <th>name_2</th>\n",
       "      <th>lon_2</th>\n",
       "      <th>lat_2</th>\n",
       "      <th>match</th>\n",
       "    </tr>\n",
       "  </thead>\n",
       "  <tbody>\n",
       "    <tr>\n",
       "      <th>7785</th>\n",
       "      <td>8022812</td>\n",
       "      <td>DE</td>\n",
       "      <td>Ebersdorf(b Coburg)</td>\n",
       "      <td>501327N</td>\n",
       "      <td>110352E</td>\n",
       "      <td>8022813</td>\n",
       "      <td>DE</td>\n",
       "      <td>SCHNEY</td>\n",
       "      <td>500958N</td>\n",
       "      <td>110425E</td>\n",
       "      <td>0</td>\n",
       "    </tr>\n",
       "    <tr>\n",
       "      <th>8692</th>\n",
       "      <td>8101182</td>\n",
       "      <td>AT</td>\n",
       "      <td>Fritzens-Wattens</td>\n",
       "      <td>471807N</td>\n",
       "      <td>113519E</td>\n",
       "      <td>8101182</td>\n",
       "      <td>AT</td>\n",
       "      <td>FRITZENS WATTENS</td>\n",
       "      <td>471807N</td>\n",
       "      <td>113520E</td>\n",
       "      <td>1</td>\n",
       "    </tr>\n",
       "    <tr>\n",
       "      <th>7799</th>\n",
       "      <td>8023179</td>\n",
       "      <td>DE</td>\n",
       "      <td>Leipzig Hbf</td>\n",
       "      <td>512047N</td>\n",
       "      <td>122300E</td>\n",
       "      <td>8023481</td>\n",
       "      <td>DE</td>\n",
       "      <td>WURZEN</td>\n",
       "      <td>512151N</td>\n",
       "      <td>124420E</td>\n",
       "      <td>0</td>\n",
       "    </tr>\n",
       "    <tr>\n",
       "      <th>18177</th>\n",
       "      <td>8744315</td>\n",
       "      <td>FR</td>\n",
       "      <td>VERFEIL LES FENOUILLES</td>\n",
       "      <td>433924N</td>\n",
       "      <td>014008E</td>\n",
       "      <td>8744317</td>\n",
       "      <td>FR</td>\n",
       "      <td>TOULOUSE ROSERAIE</td>\n",
       "      <td>433712N</td>\n",
       "      <td>012810E</td>\n",
       "      <td>0</td>\n",
       "    </tr>\n",
       "    <tr>\n",
       "      <th>25203</th>\n",
       "      <td>87G0132</td>\n",
       "      <td>FR</td>\n",
       "      <td>PARC MUNICIPAL</td>\n",
       "      <td>444949N</td>\n",
       "      <td>003137W</td>\n",
       "      <td>871A160</td>\n",
       "      <td>FR</td>\n",
       "      <td>CRANCEY</td>\n",
       "      <td>483054N</td>\n",
       "      <td>033825E</td>\n",
       "      <td>0</td>\n",
       "    </tr>\n",
       "    <tr>\n",
       "      <th>4783</th>\n",
       "      <td>7400620</td>\n",
       "      <td>SE</td>\n",
       "      <td>Charlottenberg</td>\n",
       "      <td>595303N</td>\n",
       "      <td>121752E</td>\n",
       "      <td>7400621</td>\n",
       "      <td>SE</td>\n",
       "      <td>CHARLOTTENBERG GRANSEN</td>\n",
       "      <td>595106N</td>\n",
       "      <td>121446E</td>\n",
       "      <td>0</td>\n",
       "    </tr>\n",
       "    <tr>\n",
       "      <th>26200</th>\n",
       "      <td>8884350</td>\n",
       "      <td>BE</td>\n",
       "      <td>Thulin</td>\n",
       "      <td>502524N</td>\n",
       "      <td>034445E</td>\n",
       "      <td>8884350</td>\n",
       "      <td>BE</td>\n",
       "      <td>THULIN</td>\n",
       "      <td>502523N</td>\n",
       "      <td>034442E</td>\n",
       "      <td>1</td>\n",
       "    </tr>\n",
       "    <tr>\n",
       "      <th>23173</th>\n",
       "      <td>8772232</td>\n",
       "      <td>FR</td>\n",
       "      <td>STE COLOMBE LES VIENNE</td>\n",
       "      <td>453139N</td>\n",
       "      <td>045153E</td>\n",
       "      <td>8772240</td>\n",
       "      <td>FR</td>\n",
       "      <td>GIVORS VILLE</td>\n",
       "      <td>453506N</td>\n",
       "      <td>044556E</td>\n",
       "      <td>0</td>\n",
       "    </tr>\n",
       "    <tr>\n",
       "      <th>15311</th>\n",
       "      <td>8721544</td>\n",
       "      <td>FR</td>\n",
       "      <td>Sarrewerden</td>\n",
       "      <td>485521N</td>\n",
       "      <td>070513E</td>\n",
       "      <td>8721545</td>\n",
       "      <td>FR</td>\n",
       "      <td>SARRE UNION</td>\n",
       "      <td>485608N</td>\n",
       "      <td>070506E</td>\n",
       "      <td>0</td>\n",
       "    </tr>\n",
       "    <tr>\n",
       "      <th>8729</th>\n",
       "      <td>8101235</td>\n",
       "      <td>AT</td>\n",
       "      <td>Frastanz</td>\n",
       "      <td>471312N</td>\n",
       "      <td>093821E</td>\n",
       "      <td>8101236</td>\n",
       "      <td>AT</td>\n",
       "      <td>FELDKIRCH</td>\n",
       "      <td>471430N</td>\n",
       "      <td>093615E</td>\n",
       "      <td>0</td>\n",
       "    </tr>\n",
       "  </tbody>\n",
       "</table>\n",
       "</div>"
      ],
      "text/plain": [
       "         uic_1 country_1                  name_1    lon_1    lat_1    uic_2  \\\n",
       "7785   8022812        DE     Ebersdorf(b Coburg)  501327N  110352E  8022813   \n",
       "8692   8101182        AT        Fritzens-Wattens  471807N  113519E  8101182   \n",
       "7799   8023179        DE             Leipzig Hbf  512047N  122300E  8023481   \n",
       "18177  8744315        FR  VERFEIL LES FENOUILLES  433924N  014008E  8744317   \n",
       "25203  87G0132        FR          PARC MUNICIPAL  444949N  003137W  871A160   \n",
       "4783   7400620        SE          Charlottenberg  595303N  121752E  7400621   \n",
       "26200  8884350        BE                  Thulin  502524N  034445E  8884350   \n",
       "23173  8772232        FR  STE COLOMBE LES VIENNE  453139N  045153E  8772240   \n",
       "15311  8721544        FR             Sarrewerden  485521N  070513E  8721545   \n",
       "8729   8101235        AT                Frastanz  471312N  093821E  8101236   \n",
       "\n",
       "      country_2                  name_2    lon_2    lat_2  match  \n",
       "7785         DE                  SCHNEY  500958N  110425E      0  \n",
       "8692         AT        FRITZENS WATTENS  471807N  113520E      1  \n",
       "7799         DE                  WURZEN  512151N  124420E      0  \n",
       "18177        FR       TOULOUSE ROSERAIE  433712N  012810E      0  \n",
       "25203        FR                 CRANCEY  483054N  033825E      0  \n",
       "4783         SE  CHARLOTTENBERG GRANSEN  595106N  121446E      0  \n",
       "26200        BE                  THULIN  502523N  034442E      1  \n",
       "23173        FR            GIVORS VILLE  453506N  044556E      0  \n",
       "15311        FR             SARRE UNION  485608N  070506E      0  \n",
       "8729         AT               FELDKIRCH  471430N  093615E      0  "
      ]
     },
     "execution_count": 3,
     "metadata": {},
     "output_type": "execute_result"
    }
   ],
   "source": [
    "import pandas as pd\n",
    "import numpy as np\n",
    "from sklearn.utils import shuffle\n",
    "\n",
    "def load_raw_dataset(filename='full_set.csv'):\n",
    "    df = pd.read_csv(filename)\n",
    "    from sklearn.utils import shuffle\n",
    "    #np.random.seed()\n",
    "    df = shuffle(df, random_state =42)\n",
    "    return df\n",
    "    \n",
    "raw_dataset = load_raw_dataset()\n",
    "raw_dataset.head(10)\n"
   ]
  },
  {
   "cell_type": "markdown",
   "metadata": {},
   "source": [
    "### DEFINE LEVENSTEIN METRIC\n",
    "\n",
    "Since dataset is huge, apply memory buffer trick"
   ]
  },
  {
   "cell_type": "code",
   "execution_count": 4,
   "metadata": {},
   "outputs": [],
   "source": [
    "def call_counter(func):\n",
    "    def helper(*args, **kwargs):\n",
    "        helper.calls += 1\n",
    "        return func(*args, **kwargs)\n",
    "\n",
    "    helper.calls = 0\n",
    "    helper.__name__ = func.__name__\n",
    "    return helper\n",
    "\n",
    "\n",
    "def memorize(func):\n",
    "    mem = {}\n",
    "\n",
    "    def memoizer(*args, **kwargs):\n",
    "        key = str(args) + str(kwargs)\n",
    "        if key not in mem:\n",
    "            mem[key] = func(*args, **kwargs)\n",
    "        return mem[key]\n",
    "\n",
    "    return memoizer\n",
    "\n",
    "\n",
    "@call_counter\n",
    "@memorize\n",
    "def levenshtein(s, t):\n",
    "    if s == \"\":\n",
    "        return len(t)\n",
    "    if t == \"\":\n",
    "        return len(s)\n",
    "    if s[-1] == t[-1]:\n",
    "        cost = 0\n",
    "    else:\n",
    "        cost = 1\n",
    "\n",
    "    res = min([levenshtein(s[:-1], t) + 1,\n",
    "               levenshtein(s, t[:-1]) + 1,\n",
    "               levenshtein(s[:-1], t[:-1]) + cost])\n",
    "    return res"
   ]
  },
  {
   "cell_type": "markdown",
   "metadata": {},
   "source": [
    "### DEFINE SIMILARITY_VECTOR CLASS\n",
    "OOP style, but in general ML has procedural approach"
   ]
  },
  {
   "cell_type": "code",
   "execution_count": 5,
   "metadata": {},
   "outputs": [],
   "source": [
    "from math import sin, cos, sqrt, atan2, radians\n",
    "import unicodedata as ud\n",
    "\n",
    "class SimilarityVector:\n",
    "    def __init__(self):\n",
    "        self.uic = 0\n",
    "        self.country_similarity = 0\n",
    "        self.name_distance = 0\n",
    "        self.geo_distance = 0\n",
    "\n",
    "    def set_uic(self, uic1, uic2):\n",
    "#         self.uic = 0\n",
    "#         if(levenshtein(str(uic1), str(uic2))) < 3:\n",
    "#             self.uic = 1\n",
    "            \n",
    "        self.uic = levenshtein(str(uic1), str(uic2))\n",
    "\n",
    "    def set_country(self, country1, country2):\n",
    "        if country1 == country2:\n",
    "            self.country_similarity = 1\n",
    "        else:\n",
    "            self.country_similarity = 0\n",
    "\n",
    "    def set_name_distance(self, name1, name2):\n",
    "\n",
    "        self.name_distance = levenshtein(self.__normalize_string(name1),\n",
    "                                         self.__normalize_string(name2))\n",
    "\n",
    "    def set_geo_distance(self, lat1, lon1, lat2, lon2):\n",
    "        radius_earth = 6373.0\n",
    "        \n",
    "        \n",
    "        lat1 = radians(self.__normalize_geopos(lat1))\n",
    "        lon1 = radians(self.__normalize_geopos(lon1))\n",
    "        lat2 = radians(self.__normalize_geopos(lat2))\n",
    "        lon2 = radians(self.__normalize_geopos(lon2))\n",
    "\n",
    "        dlon = lon2 - lon1\n",
    "        dlat = lat2 - lat1\n",
    "\n",
    "        a = sin(dlat / 2) ** 2 + cos(lat1) * cos(lat2) * sin(dlon / 2) ** 2\n",
    "        c = 2 * atan2(sqrt(a), sqrt(1 - a))\n",
    "\n",
    "        distance = radius_earth * c\n",
    "\n",
    "        self.geo_distance = distance\n",
    "        \n",
    "    def __normalize_geopos(self, geopos):\n",
    "           \n",
    "        h = int(geopos[0:2])\n",
    "        m = int(geopos[2:4])/60\n",
    "        s = int(geopos[4:6])/3600\n",
    "        \n",
    "        res = h + m + s\n",
    "               \n",
    "        return res\n",
    "\n",
    "    def __normalize_string(self, input):\n",
    "        input = input.lower()\n",
    "        input = ''.join(c for c in input if c not in \",-' \")\n",
    "        input = ud.normalize('NFC',input)\n",
    "\n",
    "        return str(input)\n"
   ]
  },
  {
   "cell_type": "markdown",
   "metadata": {},
   "source": [
    "### TRANSFORM RAW DS INTO VECTOR DS ###\n",
    "Leave all data (outliers) so no cheating against 1A generic algo"
   ]
  },
  {
   "cell_type": "code",
   "execution_count": 6,
   "metadata": {
    "scrolled": true
   },
   "outputs": [],
   "source": [
    "#!!!\n",
    "\n",
    "dataset_x = pd.DataFrame(columns=['uic_similarity','country_similarity','name_distance','geo_distance'])\n",
    "dataset_y = pd.DataFrame(columns=['match'])\n",
    "for index, frame in raw_dataset.iterrows():\n",
    "   \n",
    "    vector = SimilarityVector()    \n",
    "    vector.set_uic(frame[0],frame[5])\n",
    "    vector.set_country(frame[1],frame[6])\n",
    "    vector.set_name_distance(str(frame[2]),str(frame[7]))\n",
    "    vector.set_geo_distance(frame[3],frame[4],frame[8],frame[9])\n",
    "    \n",
    "    ### THROW OUT OUTLIERS ###\n",
    "    #if vector.geo_distance > 250 and frame[10] == 1:\n",
    "    #    continue\n",
    "        \n",
    "    #if vector.name_distance + vector.uic > 10 and frame[10] == 1:\n",
    "    #    continue\n",
    "    \n",
    "    dataset_x = dataset_x.append({\n",
    "        \"uic_similarity\": vector.uic,\n",
    "        \"country_similarity\": vector.country_similarity,\n",
    "        \"name_distance\": vector.name_distance,\n",
    "        \"geo_distance\": vector.geo_distance,\n",
    "          }, ignore_index=True)\n",
    "    \n",
    "    dataset_y = dataset_y.append({\"match\": frame[10],}, ignore_index=True)"
   ]
  },
  {
   "cell_type": "code",
   "execution_count": 7,
   "metadata": {},
   "outputs": [
    {
     "data": {
      "text/html": [
       "<div>\n",
       "<style scoped>\n",
       "    .dataframe tbody tr th:only-of-type {\n",
       "        vertical-align: middle;\n",
       "    }\n",
       "\n",
       "    .dataframe tbody tr th {\n",
       "        vertical-align: top;\n",
       "    }\n",
       "\n",
       "    .dataframe thead th {\n",
       "        text-align: right;\n",
       "    }\n",
       "</style>\n",
       "<table border=\"1\" class=\"dataframe\">\n",
       "  <thead>\n",
       "    <tr style=\"text-align: right;\">\n",
       "      <th></th>\n",
       "      <th>uic_similarity</th>\n",
       "      <th>country_similarity</th>\n",
       "      <th>name_distance</th>\n",
       "      <th>geo_distance</th>\n",
       "    </tr>\n",
       "  </thead>\n",
       "  <tbody>\n",
       "    <tr>\n",
       "      <th>0</th>\n",
       "      <td>1.0</td>\n",
       "      <td>1.0</td>\n",
       "      <td>16.0</td>\n",
       "      <td>6.490415</td>\n",
       "    </tr>\n",
       "    <tr>\n",
       "      <th>1</th>\n",
       "      <td>0.0</td>\n",
       "      <td>1.0</td>\n",
       "      <td>0.0</td>\n",
       "      <td>0.020952</td>\n",
       "    </tr>\n",
       "    <tr>\n",
       "      <th>2</th>\n",
       "      <td>3.0</td>\n",
       "      <td>1.0</td>\n",
       "      <td>9.0</td>\n",
       "      <td>24.776559</td>\n",
       "    </tr>\n",
       "    <tr>\n",
       "      <th>3</th>\n",
       "      <td>1.0</td>\n",
       "      <td>1.0</td>\n",
       "      <td>16.0</td>\n",
       "      <td>16.564833</td>\n",
       "    </tr>\n",
       "    <tr>\n",
       "      <th>4</th>\n",
       "      <td>4.0</td>\n",
       "      <td>1.0</td>\n",
       "      <td>10.0</td>\n",
       "      <td>473.652689</td>\n",
       "    </tr>\n",
       "    <tr>\n",
       "      <th>5</th>\n",
       "      <td>1.0</td>\n",
       "      <td>1.0</td>\n",
       "      <td>7.0</td>\n",
       "      <td>4.625005</td>\n",
       "    </tr>\n",
       "    <tr>\n",
       "      <th>6</th>\n",
       "      <td>0.0</td>\n",
       "      <td>1.0</td>\n",
       "      <td>0.0</td>\n",
       "      <td>0.066649</td>\n",
       "    </tr>\n",
       "    <tr>\n",
       "      <th>7</th>\n",
       "      <td>2.0</td>\n",
       "      <td>1.0</td>\n",
       "      <td>14.0</td>\n",
       "      <td>10.027846</td>\n",
       "    </tr>\n",
       "  </tbody>\n",
       "</table>\n",
       "</div>"
      ],
      "text/plain": [
       "   uic_similarity  country_similarity  name_distance  geo_distance\n",
       "0             1.0                 1.0           16.0      6.490415\n",
       "1             0.0                 1.0            0.0      0.020952\n",
       "2             3.0                 1.0            9.0     24.776559\n",
       "3             1.0                 1.0           16.0     16.564833\n",
       "4             4.0                 1.0           10.0    473.652689\n",
       "5             1.0                 1.0            7.0      4.625005\n",
       "6             0.0                 1.0            0.0      0.066649\n",
       "7             2.0                 1.0           14.0     10.027846"
      ]
     },
     "execution_count": 7,
     "metadata": {},
     "output_type": "execute_result"
    }
   ],
   "source": [
    "### REMOVE NaN, Inf, etc ###\n",
    "\n",
    "# def clean_dataset(df):\n",
    "#     assert isinstance(df, pd.DataFrame), \"df needs to be a pd.DataFrame\"\n",
    "#     df.dropna(inplace=True)\n",
    "#     indices_to_keep = ~df.isin([np.nan, np.inf, -np.inf]).any(1)\n",
    "#     return df[indices_to_keep].astype(np.float64)\n",
    "\n",
    "# clean_dataset(dataset_x)\n",
    "\n",
    "dataset_x.head(8)"
   ]
  },
  {
   "cell_type": "markdown",
   "metadata": {},
   "source": [
    "# VISUALISE DATASET\n",
    "\n",
    "Trying to imply some relations in data"
   ]
  },
  {
   "cell_type": "code",
   "execution_count": 8,
   "metadata": {},
   "outputs": [
    {
     "data": {
      "text/plain": [
       "<Figure size 1600x1200 with 1 Axes>"
      ]
     },
     "metadata": {},
     "output_type": "display_data"
    }
   ],
   "source": [
    "from mpl_toolkits.mplot3d import Axes3D\n",
    "import matplotlib.pyplot as plt\n",
    "\n",
    "dataset_x_raw = dataset_x.values.tolist()\n",
    "\n",
    "fig = plt.figure(figsize=(16, 12))\n",
    "ax = fig.add_subplot(111, projection='3d')\n",
    "\n",
    "xs_true, ys_true, zs_true = list(), list(), list()\n",
    "for i,label in dataset_y.iterrows():\n",
    "    if label['match'] == 1:        \n",
    "        xs_true.append(dataset_x_raw[i][0])\n",
    "        ys_true.append(dataset_x_raw[i][2])\n",
    "        zs_true.append(dataset_x_raw[i][3])\n",
    "        \n",
    "ax.scatter(xs_true, ys_true, zs_true, s=50, alpha=0.7, edgecolors='w', color=\"g\")\n",
    "\n",
    "xs_false, ys_false, zs_false = list(), list(), list()\n",
    "for i,label in dataset_y.iterrows():\n",
    "    if label['match'] == 0:        \n",
    "        xs_false.append(dataset_x_raw[i][0])\n",
    "        ys_false.append(dataset_x_raw[i][2])\n",
    "        zs_false.append(dataset_x_raw[i][3])\n",
    "        \n",
    "ax.scatter(xs_false, ys_false, zs_false, s=50, alpha=0.1, edgecolors='w', color=\"r\")\n",
    "\n",
    "ax.set_xlabel('uic_similarity', size=\"24\")\n",
    "ax.set_ylabel('name_distance', size=\"24\")\n",
    "ax.set_zlabel('geo_distance', size=\"24\")\n",
    "\n",
    "ax.set_zlim([0, 2000])\n",
    "\n",
    "plt.show()"
   ]
  },
  {
   "cell_type": "code",
   "execution_count": null,
   "metadata": {
    "scrolled": false
   },
   "outputs": [],
   "source": [
    "from mpl_toolkits.mplot3d import Axes3D\n",
    "import matplotlib.pyplot as plt\n",
    "\n",
    "dataset_x_raw = dataset_x.values.tolist()\n",
    "\n",
    "fig = plt.figure(figsize=(16, 12))\n",
    "ax = fig.add_subplot(111, projection='3d')\n",
    "\n",
    "xs_true, ys_true, zs_true = list(), list(), list()\n",
    "for i,label in dataset_y.iterrows():\n",
    "    if label['match'] == 1:        \n",
    "        xs_true.append(dataset_x_raw[i][0])\n",
    "        ys_true.append(dataset_x_raw[i][2])\n",
    "        zs_true.append(1)\n",
    "        \n",
    "ax.scatter(xs_true, ys_true, zs_true, s=90, alpha=0.01, edgecolors='w', color=\"g\")\n",
    "\n",
    "xs_false, ys_false, zs_false = list(), list(), list()\n",
    "for i,label in dataset_y.iterrows():\n",
    "    if label['match'] == 0:        \n",
    "        xs_false.append(dataset_x_raw[i][0])\n",
    "        ys_false.append(dataset_x_raw[i][2])\n",
    "        zs_false.append(0)\n",
    "        \n",
    "ax.scatter(xs_false, ys_false, zs_false, s=90, alpha=0.01, edgecolors='w', color=\"r\")\n",
    "\n",
    "ax.set_xlabel('uic_similarity', size=\"24\")\n",
    "ax.set_ylabel('name_distance', size=\"24\")\n",
    "ax.set_zlabel('match', size=\"24\")\n",
    "\n",
    "plt.show()"
   ]
  },
  {
   "cell_type": "markdown",
   "metadata": {},
   "source": [
    "# RESCALE DATA TO STANDART RANGE\n",
    "\n",
    "Because some ML models don't tolerate different scale of features"
   ]
  },
  {
   "cell_type": "code",
   "execution_count": 45,
   "metadata": {},
   "outputs": [
    {
     "data": {
      "text/html": [
       "<div>\n",
       "<style scoped>\n",
       "    .dataframe tbody tr th:only-of-type {\n",
       "        vertical-align: middle;\n",
       "    }\n",
       "\n",
       "    .dataframe tbody tr th {\n",
       "        vertical-align: top;\n",
       "    }\n",
       "\n",
       "    .dataframe thead th {\n",
       "        text-align: right;\n",
       "    }\n",
       "</style>\n",
       "<table border=\"1\" class=\"dataframe\">\n",
       "  <thead>\n",
       "    <tr style=\"text-align: right;\">\n",
       "      <th></th>\n",
       "      <th>0</th>\n",
       "      <th>1</th>\n",
       "      <th>2</th>\n",
       "      <th>3</th>\n",
       "    </tr>\n",
       "  </thead>\n",
       "  <tbody>\n",
       "    <tr>\n",
       "      <th>0</th>\n",
       "      <td>0.142857</td>\n",
       "      <td>1.0</td>\n",
       "      <td>0.592593</td>\n",
       "      <td>0.001253</td>\n",
       "    </tr>\n",
       "    <tr>\n",
       "      <th>1</th>\n",
       "      <td>0.000000</td>\n",
       "      <td>1.0</td>\n",
       "      <td>0.000000</td>\n",
       "      <td>0.000004</td>\n",
       "    </tr>\n",
       "    <tr>\n",
       "      <th>2</th>\n",
       "      <td>0.428571</td>\n",
       "      <td>1.0</td>\n",
       "      <td>0.333333</td>\n",
       "      <td>0.004783</td>\n",
       "    </tr>\n",
       "    <tr>\n",
       "      <th>3</th>\n",
       "      <td>0.142857</td>\n",
       "      <td>1.0</td>\n",
       "      <td>0.592593</td>\n",
       "      <td>0.003198</td>\n",
       "    </tr>\n",
       "    <tr>\n",
       "      <th>4</th>\n",
       "      <td>0.571429</td>\n",
       "      <td>1.0</td>\n",
       "      <td>0.370370</td>\n",
       "      <td>0.091439</td>\n",
       "    </tr>\n",
       "    <tr>\n",
       "      <th>5</th>\n",
       "      <td>0.142857</td>\n",
       "      <td>1.0</td>\n",
       "      <td>0.259259</td>\n",
       "      <td>0.000893</td>\n",
       "    </tr>\n",
       "    <tr>\n",
       "      <th>6</th>\n",
       "      <td>0.000000</td>\n",
       "      <td>1.0</td>\n",
       "      <td>0.000000</td>\n",
       "      <td>0.000013</td>\n",
       "    </tr>\n",
       "    <tr>\n",
       "      <th>7</th>\n",
       "      <td>0.285714</td>\n",
       "      <td>1.0</td>\n",
       "      <td>0.518519</td>\n",
       "      <td>0.001936</td>\n",
       "    </tr>\n",
       "  </tbody>\n",
       "</table>\n",
       "</div>"
      ],
      "text/plain": [
       "          0    1         2         3\n",
       "0  0.142857  1.0  0.592593  0.001253\n",
       "1  0.000000  1.0  0.000000  0.000004\n",
       "2  0.428571  1.0  0.333333  0.004783\n",
       "3  0.142857  1.0  0.592593  0.003198\n",
       "4  0.571429  1.0  0.370370  0.091439\n",
       "5  0.142857  1.0  0.259259  0.000893\n",
       "6  0.000000  1.0  0.000000  0.000013\n",
       "7  0.285714  1.0  0.518519  0.001936"
      ]
     },
     "execution_count": 45,
     "metadata": {},
     "output_type": "execute_result"
    }
   ],
   "source": [
    "from sklearn.preprocessing import normalize, scale, MinMaxScaler\n",
    "\n",
    "scaler = MinMaxScaler()\n",
    "scaled_x = scaler.fit_transform(dataset_x.values)\n",
    "dataset_x = pd.DataFrame(scaled_x)\n",
    "#normalize(dataset_x, copy=False, axis=1)\n",
    "dataset_x.head(8)"
   ]
  },
  {
   "cell_type": "code",
   "execution_count": null,
   "metadata": {},
   "outputs": [],
   "source": [
    "dataset_x.shape"
   ]
  },
  {
   "cell_type": "code",
   "execution_count": null,
   "metadata": {},
   "outputs": [],
   "source": [
    "dataset_y.shape"
   ]
  },
  {
   "cell_type": "code",
   "execution_count": null,
   "metadata": {},
   "outputs": [],
   "source": [
    "dataset_y.head(8)"
   ]
  },
  {
   "cell_type": "code",
   "execution_count": null,
   "metadata": {},
   "outputs": [],
   "source": [
    "from mpl_toolkits.mplot3d import Axes3D\n",
    "import matplotlib.pyplot as plt\n",
    "\n",
    "dataset_x_raw = dataset_x.values.tolist()\n",
    "\n",
    "fig = plt.figure(figsize=(16, 12))\n",
    "ax = fig.add_subplot(111, projection='3d')\n",
    "\n",
    "xs_true, ys_true, zs_true = list(), list(), list()\n",
    "for i,label in dataset_y.iterrows():\n",
    "    if label['match'] == 1:        \n",
    "        xs_true.append(dataset_x_raw[i][0])\n",
    "        ys_true.append(dataset_x_raw[i][2])\n",
    "        zs_true.append(dataset_x_raw[i][3])\n",
    "        \n",
    "ax.scatter(xs_true, ys_true, zs_true, s=50, alpha=0.7, edgecolors='w', color=\"g\")\n",
    "\n",
    "xs_false, ys_false, zs_false = list(), list(), list()\n",
    "for i,label in dataset_y.iterrows():\n",
    "    if label['match'] == 0:        \n",
    "        xs_false.append(dataset_x_raw[i][0])\n",
    "        ys_false.append(dataset_x_raw[i][2])\n",
    "        zs_false.append(dataset_x_raw[i][3])\n",
    "        \n",
    "ax.scatter(xs_false, ys_false, zs_false, s=50, alpha=0.1, edgecolors='w', color=\"r\")\n",
    "\n",
    "ax.set_xlabel('uic_similarity', size=\"24\")\n",
    "ax.set_ylabel('name_distance', size=\"24\")\n",
    "ax.set_zlabel('geo_distance', size=\"24\")\n",
    "\n",
    "# ax.set_xlim([0, 2])\n",
    "# ax.set_ylim([0, 1])\n",
    "ax.set_zlim([0, 0.4])"
   ]
  },
  {
   "cell_type": "code",
   "execution_count": null,
   "metadata": {},
   "outputs": [],
   "source": [
    "from mpl_toolkits.mplot3d import Axes3D\n",
    "\n",
    "fig = plt.figure(figsize=(16, 12))\n",
    "ax = fig.add_subplot(611)\n",
    "\n",
    "xs_true, ys_true, = list(), list()\n",
    "for i,label in dataset_y.iterrows():\n",
    "    xs_true.append(dataset_x_raw[i][0])\n",
    "    ys_true.append(label['match'])\n",
    "        \n",
    "ax.scatter(xs_true, ys_true, s=240, alpha=0.005, edgecolors='white', color=\"gray\")\n",
    "\n",
    "ax.set_xlabel('uic_similarity', size=\"24\")\n",
    "ax.set_ylabel('match/no match', size=\"24\")\n"
   ]
  },
  {
   "cell_type": "code",
   "execution_count": null,
   "metadata": {},
   "outputs": [],
   "source": [
    "from mpl_toolkits.mplot3d import Axes3D\n",
    "\n",
    "fig = plt.figure(figsize=(16, 12))\n",
    "ax = fig.add_subplot(611)\n",
    "\n",
    "xs_true, ys_true, zs_true = list(), list(), list()\n",
    "for i,label in dataset_y.iterrows():\n",
    "    xs_true.append(dataset_x_raw[i][2])\n",
    "    ys_true.append(label['match'])\n",
    "        \n",
    "ax.scatter(xs_true, ys_true, s=240, alpha=0.005, edgecolors='white', color=\"gray\")\n",
    "\n",
    "ax.set_xlabel('name_distance', size=\"24\")\n",
    "ax.set_ylabel('match/no match', size=\"24\")\n"
   ]
  },
  {
   "cell_type": "code",
   "execution_count": null,
   "metadata": {},
   "outputs": [],
   "source": [
    "from mpl_toolkits.mplot3d import Axes3D\n",
    "\n",
    "fig = plt.figure(figsize=(16, 12))\n",
    "ax = fig.add_subplot(611)\n",
    "\n",
    "xs_true, ys_true, zs_true = list(), list(), list()\n",
    "for i,label in dataset_y.iterrows():\n",
    "    xs_true.append(dataset_x_raw[i][3])\n",
    "    ys_true.append(label['match'])\n",
    "        \n",
    "ax.scatter(xs_true, ys_true, s=50, alpha=0.1, edgecolors='white', color=\"gray\")\n",
    "\n",
    "ax.set_xlabel('geo_distance')\n",
    "ax.set_ylabel('match/no match')\n"
   ]
  },
  {
   "attachments": {},
   "cell_type": "markdown",
   "metadata": {},
   "source": [
    "# SPLIT DATASET TEST/TRAIN\n",
    "\n",
    "## 75 / 25 %\n",
    "\n",
    "!!! go to slides \"Train, Validate, Test!\""
   ]
  },
  {
   "cell_type": "code",
   "execution_count": 46,
   "metadata": {},
   "outputs": [],
   "source": [
    "div = 18000\n",
    "\n",
    "X_train, X_test, y_train, y_test = dataset_x[:div], dataset_x[div:],dataset_y[:div], dataset_y[div:]\n",
    "y_train=y_train.astype('int')"
   ]
  },
  {
   "cell_type": "code",
   "execution_count": 11,
   "metadata": {},
   "outputs": [],
   "source": [
    "#Define utility function\n",
    "from sklearn.metrics import precision_score, recall_score, f1_score, roc_auc_score\n",
    "\n",
    "def print_scoring_matrix(y_train, y_pred_array, final=False):\n",
    "    \n",
    "    p_score = precision_score(y_train, y_pred_array)\n",
    "    r_score = recall_score(y_train, y_pred_array)\n",
    "    f1 = f1_score(y_train, y_pred_array)\n",
    "    auc_score = roc_auc_score(y_train, y_pred_array)\n",
    "    \n",
    "    fig = plt.figure(figsize=(8, 4))\n",
    "    ax_p = fig.add_subplot(221)\n",
    "    ax_r = fig.add_subplot(222)\n",
    "    ax_f1 = fig.add_subplot(223)\n",
    "    ax_auc = fig.add_subplot(224)\n",
    "    \n",
    "   \n",
    "    \n",
    "    # these are matplotlib.patch.Patch properties\n",
    "    if final:\n",
    "        props = dict(boxstyle='square', facecolor='g', alpha=0.5)\n",
    "    else:\n",
    "        props = dict(boxstyle='square', facecolor='w', alpha=0.5)\n",
    "\n",
    "    # place a text box in upper left in axes coords\n",
    "    ax_p.text(0, 0, r'$\\ Prc=%.4f$' % (p_score, ),\n",
    "              transform=ax_p.transAxes, fontsize=24, verticalalignment='top', bbox=props)\n",
    "    ax_r.text(0, 0, r'$\\ Rcl=%.4f$' % (r_score, ),\n",
    "              transform=ax_r.transAxes, fontsize=24, verticalalignment='top', bbox=props)\n",
    "    ax_f1.text(0, 0.7, r'$\\ F1s=%.4f$ ' % (f1, ),\n",
    "              transform=ax_f1.transAxes, fontsize=24, verticalalignment='top', bbox=props)\n",
    "    ax_auc.text(0, 0.7, r'$\\ Auc=%.4f$' % (auc_score, ),\n",
    "              transform=ax_auc.transAxes, fontsize=24, verticalalignment='top', bbox=props)\n",
    "    \n",
    "    \n",
    "    ax_p.set_axis_off()\n",
    "    ax_r.set_axis_off()\n",
    "    ax_f1.set_axis_off()\n",
    "    ax_auc.set_axis_off()\n",
    "\n",
    "    plt.show()"
   ]
  },
  {
   "attachments": {},
   "cell_type": "markdown",
   "metadata": {},
   "source": [
    "# ............................ \n",
    "\n",
    "# SGDClassifier and estimation\n",
    "\n",
    "!!! Go to slides SGDClassifier!"
   ]
  },
  {
   "cell_type": "code",
   "execution_count": 15,
   "metadata": {},
   "outputs": [
    {
     "data": {
      "text/plain": [
       "SGDClassifier(alpha=0.5, average=False, class_weight=None, epsilon=0.1,\n",
       "       eta0=0.0, fit_intercept=True, l1_ratio=0.15,\n",
       "       learning_rate='optimal', loss='log', max_iter=5, n_iter=None,\n",
       "       n_jobs=1, penalty='l2', power_t=0.5, random_state=42, shuffle=True,\n",
       "       tol=None, verbose=0, warm_start=False)"
      ]
     },
     "execution_count": 15,
     "metadata": {},
     "output_type": "execute_result"
    }
   ],
   "source": [
    "from sklearn.linear_model import SGDClassifier\n",
    "\n",
    "sgd_clf = SGDClassifier(loss=\"log\", max_iter=5, alpha=0.5, random_state=42)\n",
    "sgd_clf.fit(X_train, y_train.values.ravel())"
   ]
  },
  {
   "cell_type": "code",
   "execution_count": 16,
   "metadata": {},
   "outputs": [
    {
     "data": {
      "text/plain": [
       "array([0.97551471, 0.97363026, 0.9720063 ])"
      ]
     },
     "execution_count": 16,
     "metadata": {},
     "output_type": "execute_result"
    }
   ],
   "source": [
    "from sklearn.model_selection import cross_val_score\n",
    "cross_val_score(sgd_clf, X_train, y_train.values.ravel(), cv=3, scoring=\"roc_auc\")"
   ]
  },
  {
   "cell_type": "code",
   "execution_count": 17,
   "metadata": {},
   "outputs": [],
   "source": [
    "from sklearn.model_selection import cross_val_predict\n",
    "y_train_pred = cross_val_predict(sgd_clf, X_train, y_train.values.ravel(), cv=3)\n",
    "\n",
    "from sklearn.metrics import confusion_matrix"
   ]
  },
  {
   "cell_type": "code",
   "execution_count": 18,
   "metadata": {},
   "outputs": [],
   "source": [
    "#define utility function\n",
    "import itertools\n",
    "def plot_confusion_matrix(y_test, y_pred, classes,                          \n",
    "                          title='Confusion matrix',\n",
    "                          cmap=plt.cm.Blues):\n",
    "    \"\"\"\n",
    "    This function prints and plots the confusion matrix.\n",
    "    \"\"\"\n",
    "    \n",
    "    # Compute confusion matrix\n",
    "    cm = confusion_matrix(y_test, y_pred)\n",
    "    np.set_printoptions(precision=2)\n",
    "\n",
    "    plt.figure()\n",
    "    plt.rcParams[\"figure.figsize\"]=16,8\n",
    "    \n",
    "    cm_normalized = cm.astype('float')*100 / cm.sum(axis=1)[:, np.newaxis]\n",
    "    \n",
    "    plt.imshow(cm, interpolation='nearest', cmap=cmap)\n",
    "    plt.title(title, size=\"24\")\n",
    "    plt.colorbar()\n",
    "    tick_marks = np.arange(len(classes))\n",
    "    plt.xticks(tick_marks, classes, rotation=0)\n",
    "    plt.yticks(tick_marks, classes)\n",
    "\n",
    "    thresh = cm.max() / 2.\n",
    "    \n",
    "    for i, j in itertools.product(range(cm.shape[0]), range(cm.shape[1])):\n",
    "        plt.text(j, i, format(cm[i, j], 'd'),\n",
    "                 horizontalalignment=\"center\",\n",
    "                 verticalalignment='bottom',\n",
    "                 size=\"24\",\n",
    "                 color=\"white\" if cm[i, j] > thresh else \"black\")\n",
    "        \n",
    "    for i, j in itertools.product(range(cm_normalized.shape[0]), range(cm_normalized.shape[1])):\n",
    "        plt.text(j, i, format(cm_normalized[i, j], '.1f') + \"%\",\n",
    "             horizontalalignment='center',\n",
    "             verticalalignment='top',\n",
    "             size=\"18\",\n",
    "             color=\"white\" if cm[i, j] > thresh else \"black\")\n",
    "\n",
    "    plt.ylabel('True label')\n",
    "    plt.xlabel('Predicted label')\n",
    "    plt.tight_layout()    \n",
    "    plt.show()\n",
    "\n",
    "    "
   ]
  },
  {
   "cell_type": "code",
   "execution_count": null,
   "metadata": {},
   "outputs": [],
   "source": [
    "plot_confusion_matrix(y_train.astype('int'), y_train_pred, (0,1), title=\"SGD @ Train\")"
   ]
  },
  {
   "cell_type": "code",
   "execution_count": null,
   "metadata": {},
   "outputs": [],
   "source": [
    "print_scoring_matrix(y_train, y_train_pred)"
   ]
  },
  {
   "cell_type": "code",
   "execution_count": 73,
   "metadata": {},
   "outputs": [],
   "source": [
    "from sklearn.metrics import precision_recall_curve"
   ]
  },
  {
   "cell_type": "code",
   "execution_count": null,
   "metadata": {},
   "outputs": [],
   "source": [
    "y_scores = cross_val_predict(sgd_clf, X_train, y_train.values.ravel(), cv=3,\n",
    "                             method=\"decision_function\")\n",
    "\n",
    "precisions, recalls, thresholds = precision_recall_curve(y_train, y_scores)\n",
    "\n",
    "y_scores.shape"
   ]
  },
  {
   "cell_type": "markdown",
   "metadata": {},
   "source": [
    "### Showing P/R Threshold for SGD"
   ]
  },
  {
   "cell_type": "code",
   "execution_count": 75,
   "metadata": {},
   "outputs": [],
   "source": [
    "def plot_precision_recall_vs_threshold(precisions, recalls, thresholds):\n",
    "    plt.plot(thresholds, precisions[:-1], \"b-\", label=\"Precision\", linewidth=2)\n",
    "    plt.plot(thresholds, recalls[:-1], \"g--\", label=\"Recall\", linewidth=2)\n",
    "    plt.xlabel(\"Threshold\", fontsize=16)\n",
    "    plt.legend(loc=\"upper left\", fontsize=16)\n",
    "    plt.ylim([0, 1])\n",
    "    \n",
    "%matplotlib inline\n",
    "import matplotlib\n",
    "import matplotlib.pyplot as plt"
   ]
  },
  {
   "cell_type": "code",
   "execution_count": null,
   "metadata": {},
   "outputs": [],
   "source": [
    "plt.figure(figsize=(16, 8))\n",
    "plot_precision_recall_vs_threshold(precisions, recalls, thresholds)\n",
    "plt.xlim([-0.1, 0.06])\n",
    "\n",
    "plt.show()"
   ]
  },
  {
   "cell_type": "code",
   "execution_count": null,
   "metadata": {},
   "outputs": [],
   "source": [
    "def plot_precision_vs_recall(precisions, recalls):\n",
    "    plt.plot(recalls, precisions, \"g-\", linewidth=2)\n",
    "    plt.xlabel(\"Recall\", fontsize=16)\n",
    "    plt.ylabel(\"Precision\", fontsize=16)\n",
    "    plt.axis([0, 1, 0, 1])\n",
    "\n",
    "plt.figure(figsize=(16, 8))\n",
    "plot_precision_vs_recall(precisions, recalls)\n",
    "plt.show()"
   ]
  },
  {
   "cell_type": "markdown",
   "metadata": {},
   "source": [
    "### ROC_AUC curve for SGD"
   ]
  },
  {
   "cell_type": "code",
   "execution_count": 23,
   "metadata": {},
   "outputs": [],
   "source": [
    "from sklearn.metrics import roc_curve"
   ]
  },
  {
   "cell_type": "code",
   "execution_count": 22,
   "metadata": {},
   "outputs": [
    {
     "ename": "NameError",
     "evalue": "name 'y_scores' is not defined",
     "output_type": "error",
     "traceback": [
      "\u001b[1;31m---------------------------------------------------------------------------\u001b[0m",
      "\u001b[1;31mNameError\u001b[0m                                 Traceback (most recent call last)",
      "\u001b[1;32m<ipython-input-22-1689d95a900b>\u001b[0m in \u001b[0;36m<module>\u001b[1;34m()\u001b[0m\n\u001b[0;32m      1\u001b[0m \u001b[1;32mfrom\u001b[0m \u001b[0msklearn\u001b[0m\u001b[1;33m.\u001b[0m\u001b[0mmetrics\u001b[0m \u001b[1;32mimport\u001b[0m \u001b[0mroc_curve\u001b[0m\u001b[1;33m\u001b[0m\u001b[0m\n\u001b[0;32m      2\u001b[0m \u001b[1;33m\u001b[0m\u001b[0m\n\u001b[1;32m----> 3\u001b[1;33m \u001b[0mfpr\u001b[0m\u001b[1;33m,\u001b[0m \u001b[0mtpr\u001b[0m\u001b[1;33m,\u001b[0m \u001b[0mthresholds\u001b[0m \u001b[1;33m=\u001b[0m \u001b[0mroc_curve\u001b[0m\u001b[1;33m(\u001b[0m\u001b[0my_train\u001b[0m\u001b[1;33m,\u001b[0m \u001b[0my_scores\u001b[0m\u001b[1;33m)\u001b[0m\u001b[1;33m\u001b[0m\u001b[0m\n\u001b[0m\u001b[0;32m      4\u001b[0m \u001b[1;33m\u001b[0m\u001b[0m\n\u001b[0;32m      5\u001b[0m \u001b[1;32mdef\u001b[0m \u001b[0mplot_roc_curve\u001b[0m\u001b[1;33m(\u001b[0m\u001b[0mfpr\u001b[0m\u001b[1;33m,\u001b[0m \u001b[0mtpr\u001b[0m\u001b[1;33m,\u001b[0m \u001b[0mlabel\u001b[0m\u001b[1;33m=\u001b[0m\u001b[1;32mNone\u001b[0m\u001b[1;33m)\u001b[0m\u001b[1;33m:\u001b[0m\u001b[1;33m\u001b[0m\u001b[0m\n",
      "\u001b[1;31mNameError\u001b[0m: name 'y_scores' is not defined"
     ]
    }
   ],
   "source": [
    "fpr, tpr, thresholds = roc_curve(y_train, y_scores)\n",
    "\n",
    "def plot_roc_curve(fpr, tpr, label=None):\n",
    "    plt.plot(fpr, tpr, linewidth=2, label=label)\n",
    "    plt.plot([0, 1], [0, 1], 'k--')\n",
    "    plt.axis([0, 1, 0, 1])\n",
    "    plt.xlabel('False Positive Rate', fontsize=16)\n",
    "    plt.ylabel('True Positive Rate', fontsize=16)\n",
    "\n",
    "plt.figure(figsize=(16, 8))\n",
    "plot_roc_curve(fpr, tpr)\n",
    "plt.show()"
   ]
  },
  {
   "cell_type": "markdown",
   "metadata": {},
   "source": [
    "# Hyperparameter tuning\n",
    "\n",
    "Grid search"
   ]
  },
  {
   "cell_type": "code",
   "execution_count": 53,
   "metadata": {},
   "outputs": [],
   "source": [
    "from sklearn.model_selection import GridSearchCV"
   ]
  },
  {
   "cell_type": "code",
   "execution_count": null,
   "metadata": {},
   "outputs": [],
   "source": [
    "#!!!\n",
    "\n",
    "param_grid={\n",
    "    'alpha': [0.0001,0.001,0.01],\n",
    "    'epsilon': [0.01,0.1,1],\n",
    "    'l1_ratio': [0.01,0.1,0.15],\n",
    "    'max_iter':[5, 10, 25, 50],\n",
    "    'penalty':[\"l1\",\"l2\",\"elasticnet\"]\n",
    "}\n",
    " \n",
    "clf = SGDClassifier(loss=\"log\", random_state=42)\n",
    "\n",
    "grid_search = GridSearchCV(clf, param_grid, cv=3, verbose=3, n_jobs=12, scoring=\"roc_auc\")\n",
    "grid_search.fit(X_train, y_train.values.ravel())"
   ]
  },
  {
   "cell_type": "code",
   "execution_count": null,
   "metadata": {},
   "outputs": [],
   "source": [
    "grid_search.best_score_"
   ]
  },
  {
   "cell_type": "code",
   "execution_count": null,
   "metadata": {},
   "outputs": [],
   "source": [
    "grid_search.best_params_"
   ]
  },
  {
   "cell_type": "code",
   "execution_count": null,
   "metadata": {},
   "outputs": [],
   "source": [
    "from sklearn.linear_model import SGDClassifier\n",
    "\n",
    "sgd_clf = SGDClassifier(alpha = 0.0001, epsilon = 0.01, penalty=\"l1\", l1_ratio = 0.01, max_iter = 50, random_state=42)\n",
    "sgd_clf.fit(X_train, y_train.values.ravel())"
   ]
  },
  {
   "cell_type": "code",
   "execution_count": null,
   "metadata": {},
   "outputs": [],
   "source": [
    "y_train_pred = sgd_clf.predict(X_train).astype('int')\n",
    "\n",
    "plot_confusion_matrix(y_train.astype('int'), y_train_pred, sgd_clf.classes_, title=\"SDG @ Train (tuned)\")"
   ]
  },
  {
   "cell_type": "code",
   "execution_count": null,
   "metadata": {},
   "outputs": [],
   "source": [
    "print_scoring_matrix(y_train, y_train_pred, False)"
   ]
  },
  {
   "cell_type": "code",
   "execution_count": null,
   "metadata": {},
   "outputs": [],
   "source": [
    "y_test_pred = sgd_clf.predict(X_test).astype('int')\n",
    "\n",
    "plot_confusion_matrix(y_test.astype('int'), y_test_pred, sgd_clf.classes_, title=\"SDG @ Test (tuned)\")"
   ]
  },
  {
   "cell_type": "markdown",
   "metadata": {},
   "source": [
    "# SDG Test set final estimation\n"
   ]
  },
  {
   "cell_type": "code",
   "execution_count": null,
   "metadata": {},
   "outputs": [],
   "source": [
    "print_scoring_matrix(y_test.astype('int'), y_test_pred, True)"
   ]
  },
  {
   "attachments": {},
   "cell_type": "markdown",
   "metadata": {},
   "source": [
    "# ......................\n",
    "\n",
    "# RandomForestClassifier \n",
    "\n",
    "!!! GO to slides \"Decision Tree!\""
   ]
  },
  {
   "cell_type": "code",
   "execution_count": 83,
   "metadata": {},
   "outputs": [
    {
     "name": "stderr",
     "output_type": "stream",
     "text": [
      "C:\\ProgramData\\Anaconda3\\lib\\site-packages\\sklearn\\ensemble\\weight_boosting.py:29: DeprecationWarning: numpy.core.umath_tests is an internal NumPy module and should not be imported. It will be removed in a future NumPy release.\n",
      "  from numpy.core.umath_tests import inner1d\n"
     ]
    },
    {
     "data": {
      "text/plain": [
       "RandomForestClassifier(bootstrap=True, class_weight=None, criterion='entropy',\n",
       "            max_depth=1, max_features='sqrt', max_leaf_nodes=None,\n",
       "            min_impurity_decrease=0.1, min_impurity_split=None,\n",
       "            min_samples_leaf=9, min_samples_split=0.3,\n",
       "            min_weight_fraction_leaf=0.15, n_estimators=2, n_jobs=12,\n",
       "            oob_score=False, random_state=42, verbose=0, warm_start=False)"
      ]
     },
     "execution_count": 83,
     "metadata": {},
     "output_type": "execute_result"
    }
   ],
   "source": [
    "from sklearn.ensemble import RandomForestClassifier\n",
    "forest_clf = RandomForestClassifier(n_estimators=2,\n",
    "                                    criterion='entropy',\n",
    "                                    max_depth=1,\n",
    "                                    min_samples_split=0.3,\n",
    "                                    min_samples_leaf=9,\n",
    "                                    n_jobs=12,\n",
    "                                    min_weight_fraction_leaf=0.15,\n",
    "                                    max_leaf_nodes=None,\n",
    "                                    max_features=\"sqrt\",\n",
    "                                    min_impurity_decrease=0.1,\n",
    "                                    random_state=42)\n",
    "y_probas_forest = cross_val_predict(forest_clf, X_train, y_train.values.ravel(), cv=3,\n",
    "                                    method=\"predict_proba\")\n",
    "forest_clf.fit(X_train, y_train.values.ravel())"
   ]
  },
  {
   "cell_type": "code",
   "execution_count": null,
   "metadata": {},
   "outputs": [],
   "source": [
    "y_train_pred = forest_clf.predict(X_train).astype('int')\n",
    "\n",
    "plot_confusion_matrix(y_train.astype('int'), y_train_pred, forest_clf.classes_, title=\"RFC @ Train\")"
   ]
  },
  {
   "cell_type": "code",
   "execution_count": null,
   "metadata": {},
   "outputs": [],
   "source": [
    "y_scores_forest = y_probas_forest[:, 1] # score = proba of positive class\n",
    "fpr_forest, tpr_forest, thresholds_forest = roc_curve(y_train, y_scores_forest)"
   ]
  },
  {
   "cell_type": "code",
   "execution_count": null,
   "metadata": {},
   "outputs": [],
   "source": [
    "plt.figure(figsize=(16, 8))\n",
    "plt.plot(fpr, tpr, \"b:\", linewidth=2, label=\"SGD\")\n",
    "plot_roc_curve(fpr_forest, tpr_forest, \"Random Forest\")\n",
    "plt.legend(loc=\"lower right\", fontsize=16)\n",
    "\n",
    "plt.show()"
   ]
  },
  {
   "cell_type": "code",
   "execution_count": null,
   "metadata": {},
   "outputs": [],
   "source": [
    "#roc_auc_score(y_train, y_scores_forest)"
   ]
  },
  {
   "cell_type": "code",
   "execution_count": null,
   "metadata": {},
   "outputs": [],
   "source": [
    "y_train_pred_forest = cross_val_predict(forest_clf, X_train, y_train.values.ravel(), cv=3)"
   ]
  },
  {
   "cell_type": "code",
   "execution_count": null,
   "metadata": {},
   "outputs": [],
   "source": [
    "print_scoring_matrix(y_train, y_train_pred_forest)"
   ]
  },
  {
   "cell_type": "code",
   "execution_count": 92,
   "metadata": {},
   "outputs": [
    {
     "name": "stdout",
     "output_type": "stream",
     "text": [
      "Fitting 5 folds for each of 6 candidates, totalling 30 fits\n"
     ]
    },
    {
     "name": "stderr",
     "output_type": "stream",
     "text": [
      "[Parallel(n_jobs=12)]: Done  18 out of  30 | elapsed:   29.2s remaining:   19.5s\n",
      "[Parallel(n_jobs=12)]: Done  30 out of  30 | elapsed:   29.4s finished\n"
     ]
    },
    {
     "data": {
      "text/plain": [
       "GridSearchCV(cv=5, error_score='raise',\n",
       "       estimator=RandomForestClassifier(bootstrap=True, class_weight=None, criterion='gini',\n",
       "            max_depth=None, max_features='auto', max_leaf_nodes=None,\n",
       "            min_impurity_decrease=0.0, min_impurity_split=None,\n",
       "            min_samples_leaf=1, min_samples_split=2,\n",
       "            min_weight_fraction_leaf=0.0, n_estimators=10, n_jobs=1,\n",
       "            oob_score=False, random_state=42, verbose=0, warm_start=False),\n",
       "       fit_params=None, iid=True, n_jobs=12,\n",
       "       param_grid=({'n_estimators': [9, 10, 11], 'criterion': ['gini', 'entropy']},),\n",
       "       pre_dispatch='2*n_jobs', refit=True, return_train_score='warn',\n",
       "       scoring='roc_auc', verbose=3)"
      ]
     },
     "execution_count": 92,
     "metadata": {},
     "output_type": "execute_result"
    }
   ],
   "source": [
    "#!!! Don't rerun (7-10 minutes)\n",
    "\n",
    "\n",
    "from sklearn.model_selection import GridSearchCV\n",
    "\n",
    "# param_grid={'n_estimators': [1,2,4,8,16,40,80],\n",
    "#             'max_leaf_nodes': [None],\n",
    "#             'max_features': ['auto'],\n",
    "#             'max_depth': [2,4,6,8],\n",
    "#             'min_samples_leaf': [1,2,3,4,5],\n",
    "#             'min_samples_split': [0.1, 0.3,0.5, 2, 4, 8, 20],\n",
    "#             'criterion': ['gini', 'entropy']            \n",
    "#            },\n",
    "param_grid={'n_estimators': [9,10,11],\n",
    "            'criterion': ['gini', 'entropy']            \n",
    "           },\n",
    "clf = RandomForestClassifier(random_state=42)\n",
    "\n",
    "grid_search = GridSearchCV(clf, param_grid, cv=5, verbose=3, n_jobs=12, scoring=\"roc_auc\")\n",
    "grid_search.fit(X_train, y_train.values.ravel())"
   ]
  },
  {
   "cell_type": "code",
   "execution_count": 93,
   "metadata": {},
   "outputs": [
    {
     "data": {
      "text/plain": [
       "0.9984953596198919"
      ]
     },
     "execution_count": 93,
     "metadata": {},
     "output_type": "execute_result"
    }
   ],
   "source": [
    "grid_search.best_score_"
   ]
  },
  {
   "cell_type": "code",
   "execution_count": 94,
   "metadata": {},
   "outputs": [
    {
     "data": {
      "text/plain": [
       "{'criterion': 'entropy', 'n_estimators': 11}"
      ]
     },
     "execution_count": 94,
     "metadata": {},
     "output_type": "execute_result"
    }
   ],
   "source": [
    "grid_search.best_params_"
   ]
  },
  {
   "cell_type": "code",
   "execution_count": 95,
   "metadata": {},
   "outputs": [
    {
     "data": {
      "text/plain": [
       "RandomForestClassifier(bootstrap=True, class_weight=None, criterion='entropy',\n",
       "            max_depth=None, max_features='auto', max_leaf_nodes=None,\n",
       "            min_impurity_decrease=0.0, min_impurity_split=None,\n",
       "            min_samples_leaf=1, min_samples_split=2,\n",
       "            min_weight_fraction_leaf=0.0, n_estimators=11, n_jobs=1,\n",
       "            oob_score=False, random_state=42, verbose=0, warm_start=False)"
      ]
     },
     "execution_count": 95,
     "metadata": {},
     "output_type": "execute_result"
    }
   ],
   "source": [
    "# forest_clf = RandomForestClassifier(bootstrap=True, class_weight=None, criterion='gini',\n",
    "#             max_depth=None, max_features='auto', max_leaf_nodes=None,\n",
    "#             min_impurity_decrease=0.0, min_impurity_split=None,\n",
    "#             min_samples_leaf=1, min_samples_split=2,\n",
    "#             min_weight_fraction_leaf=0.0, n_estimators=10, n_jobs=1,\n",
    "#             oob_score=False, random_state=42, verbose=0, warm_start=False)\n",
    "forest_clf = RandomForestClassifier(bootstrap=True, class_weight=None, criterion='entropy',\n",
    "            max_depth=None, max_features='auto', max_leaf_nodes=None,\n",
    "            min_impurity_decrease=0.0, min_impurity_split=None,\n",
    "            min_samples_leaf=1, min_samples_split=2,\n",
    "            min_weight_fraction_leaf=0.0, n_estimators=11, n_jobs=1,\n",
    "            oob_score=False, random_state=42, verbose=0, warm_start=False)\n",
    "\n",
    "\n",
    "forest_clf.fit(X_train, y_train.values.ravel())"
   ]
  },
  {
   "cell_type": "code",
   "execution_count": 96,
   "metadata": {
    "scrolled": false
   },
   "outputs": [
    {
     "data": {
      "image/png": "[encoded data removed]",
      "text/plain": [
       "<Figure size 1152x576 with 2 Axes>"
      ]
     },
     "metadata": {
      "needs_background": "light"
     },
     "output_type": "display_data"
    }
   ],
   "source": [
    "y_train_pred = forest_clf.predict(X_train).astype('int')\n",
    "\n",
    "plot_confusion_matrix(y_train.astype('int'), y_train_pred, forest_clf.classes_, title=\"RFC @ Train (tuned)\")"
   ]
  },
  {
   "cell_type": "code",
   "execution_count": 97,
   "metadata": {},
   "outputs": [
    {
     "data": {
      "image/png": "[encoded data removed]",
      "text/plain": [
       "<Figure size 1152x576 with 2 Axes>"
      ]
     },
     "metadata": {
      "needs_background": "light"
     },
     "output_type": "display_data"
    }
   ],
   "source": [
    "y_test_pred = forest_clf.predict(X_test).astype('int')\n",
    "\n",
    "plot_confusion_matrix(y_test.astype('int'), y_test_pred, forest_clf.classes_, title=\"RFC @ Test (tuned)\")"
   ]
  },
  {
   "cell_type": "markdown",
   "metadata": {},
   "source": [
    "# RandomForest Test set final estimation"
   ]
  },
  {
   "cell_type": "code",
   "execution_count": null,
   "metadata": {},
   "outputs": [],
   "source": [
    "print_scoring_matrix(y_test.astype('int'), y_test_pred, True)"
   ]
  },
  {
   "cell_type": "markdown",
   "metadata": {},
   "source": [
    "# ..............\n",
    "\n",
    "# SVM Classifier\n",
    "\n",
    "!!! Go to slides\n"
   ]
  },
  {
   "cell_type": "code",
   "execution_count": 48,
   "metadata": {},
   "outputs": [
    {
     "data": {
      "text/plain": [
       "SVC(C=20, cache_size=200, class_weight=None, coef0=0.0,\n",
       "  decision_function_shape='ovr', degree=3, gamma=0.25, kernel='rbf',\n",
       "  max_iter=-1, probability=True, random_state=42, shrinking=True,\n",
       "  tol=0.001, verbose=False)"
      ]
     },
     "execution_count": 48,
     "metadata": {},
     "output_type": "execute_result"
    }
   ],
   "source": [
    "from sklearn.svm import SVC\n",
    "svm_clf = SVC(kernel=\"rbf\",\n",
    "              gamma=0.25,\n",
    "              max_iter = -1,\n",
    "              C=20,\n",
    "              probability=True,\n",
    "              random_state=42\n",
    "             )\n",
    "svm_clf.fit(X_train, y_train.values.ravel())"
   ]
  },
  {
   "cell_type": "code",
   "execution_count": 24,
   "metadata": {},
   "outputs": [
    {
     "name": "stderr",
     "output_type": "stream",
     "text": [
      "C:\\ProgramData\\Anaconda3\\lib\\site-packages\\sklearn\\svm\\base.py:218: ConvergenceWarning: Solver terminated early (max_iter=5).  Consider pre-processing your data with StandardScaler or MinMaxScaler.\n",
      "  % self.max_iter, ConvergenceWarning)\n",
      "C:\\ProgramData\\Anaconda3\\lib\\site-packages\\sklearn\\svm\\base.py:218: ConvergenceWarning: Solver terminated early (max_iter=5).  Consider pre-processing your data with StandardScaler or MinMaxScaler.\n",
      "  % self.max_iter, ConvergenceWarning)\n",
      "C:\\ProgramData\\Anaconda3\\lib\\site-packages\\sklearn\\svm\\base.py:218: ConvergenceWarning: Solver terminated early (max_iter=5).  Consider pre-processing your data with StandardScaler or MinMaxScaler.\n",
      "  % self.max_iter, ConvergenceWarning)\n"
     ]
    },
    {
     "ename": "NameError",
     "evalue": "name 'fpr' is not defined",
     "output_type": "error",
     "traceback": [
      "\u001b[1;31m---------------------------------------------------------------------------\u001b[0m",
      "\u001b[1;31mNameError\u001b[0m                                 Traceback (most recent call last)",
      "\u001b[1;32m<ipython-input-24-c2e5dfa1ab87>\u001b[0m in \u001b[0;36m<module>\u001b[1;34m()\u001b[0m\n\u001b[0;32m      7\u001b[0m \u001b[1;33m\u001b[0m\u001b[0m\n\u001b[0;32m      8\u001b[0m \u001b[0mplt\u001b[0m\u001b[1;33m.\u001b[0m\u001b[0mfigure\u001b[0m\u001b[1;33m(\u001b[0m\u001b[0mfigsize\u001b[0m\u001b[1;33m=\u001b[0m\u001b[1;33m(\u001b[0m\u001b[1;36m16\u001b[0m\u001b[1;33m,\u001b[0m \u001b[1;36m12\u001b[0m\u001b[1;33m)\u001b[0m\u001b[1;33m)\u001b[0m\u001b[1;33m\u001b[0m\u001b[0m\n\u001b[1;32m----> 9\u001b[1;33m \u001b[0mplt\u001b[0m\u001b[1;33m.\u001b[0m\u001b[0mplot\u001b[0m\u001b[1;33m(\u001b[0m\u001b[0mfpr\u001b[0m\u001b[1;33m,\u001b[0m \u001b[0mtpr\u001b[0m\u001b[1;33m,\u001b[0m \u001b[1;34m\"b:\"\u001b[0m\u001b[1;33m,\u001b[0m \u001b[0mlinewidth\u001b[0m\u001b[1;33m=\u001b[0m\u001b[1;36m2\u001b[0m\u001b[1;33m,\u001b[0m \u001b[0mlabel\u001b[0m\u001b[1;33m=\u001b[0m\u001b[1;34m\"SGD\"\u001b[0m\u001b[1;33m)\u001b[0m\u001b[1;33m\u001b[0m\u001b[0m\n\u001b[0m\u001b[0;32m     10\u001b[0m \u001b[0mplot_roc_curve\u001b[0m\u001b[1;33m(\u001b[0m\u001b[0mfpr_svm\u001b[0m\u001b[1;33m,\u001b[0m \u001b[0mtpr_svm\u001b[0m\u001b[1;33m,\u001b[0m \u001b[1;34m\"SVM\"\u001b[0m\u001b[1;33m)\u001b[0m\u001b[1;33m\u001b[0m\u001b[0m\n\u001b[0;32m     11\u001b[0m \u001b[0mplt\u001b[0m\u001b[1;33m.\u001b[0m\u001b[0mlegend\u001b[0m\u001b[1;33m(\u001b[0m\u001b[0mloc\u001b[0m\u001b[1;33m=\u001b[0m\u001b[1;34m\"lower right\"\u001b[0m\u001b[1;33m,\u001b[0m \u001b[0mfontsize\u001b[0m\u001b[1;33m=\u001b[0m\u001b[1;36m16\u001b[0m\u001b[1;33m)\u001b[0m\u001b[1;33m\u001b[0m\u001b[0m\n",
      "\u001b[1;31mNameError\u001b[0m: name 'fpr' is not defined"
     ]
    },
    {
     "data": {
      "text/plain": [
       "<Figure size 1152x864 with 0 Axes>"
      ]
     },
     "metadata": {},
     "output_type": "display_data"
    }
   ],
   "source": [
    "y_probas_svm = cross_val_predict(svm_clf, X_train, y_train.values.ravel(), cv=3,\n",
    "                                    method=\"predict_proba\")\n",
    "\n",
    "y_scores_svm = y_probas_svm[:, 1] # score = proba of positive class\n",
    "\n",
    "fpr_svm, tpr_svm, thresholds_svm = roc_curve(y_train, y_scores_svm)\n",
    "\n",
    "plt.figure(figsize=(16, 12))\n",
    "plt.plot(fpr, tpr, \"b:\", linewidth=2, label=\"SGD\")\n",
    "plot_roc_curve(fpr_svm, tpr_svm, \"SVM\")\n",
    "plt.legend(loc=\"lower right\", fontsize=16)\n",
    "\n",
    "plt.show()"
   ]
  },
  {
   "cell_type": "code",
   "execution_count": null,
   "metadata": {},
   "outputs": [],
   "source": [
    "y_scores_forest = y_probas_forest[:, 1] # score = proba of positive class\n",
    "fpr_forest, tpr_forest, thresholds_forest = roc_curve(y_train, y_scores_forest)\n",
    "\n",
    "plt.figure(figsize=(16, 8))\n",
    "plt.plot(fpr, tpr, \"b:\", linewidth=2, label=\"SGD\")\n",
    "plot_roc_curve(fpr_forest, tpr_forest, \"Random Forest\")\n",
    "plt.legend(loc=\"lower right\", fontsize=16)\n",
    "plot_roc_curve(fpr_svm, tpr_svm, \"SVM\")\n",
    "plt.legend(loc=\"lower right\", fontsize=16)\n",
    "\n",
    "plt.show()"
   ]
  },
  {
   "cell_type": "code",
   "execution_count": null,
   "metadata": {},
   "outputs": [],
   "source": [
    "y_probas_svm = cross_val_predict(svm_clf, X_train, y_train.values.ravel(), cv=3,\n",
    "                                    method=\"predict_proba\")\n",
    "y_scores_svm = y_probas_svm[:, 1] # score = proba of positive class\n",
    "fpr_svm, tpr_svm, thresholds_svm = roc_curve(y_train, y_scores_svm)"
   ]
  },
  {
   "cell_type": "code",
   "execution_count": 49,
   "metadata": {},
   "outputs": [],
   "source": [
    "y_train_pred_svm = cross_val_predict(svm_clf, X_train, y_train.values.ravel(), cv=3)\n"
   ]
  },
  {
   "cell_type": "code",
   "execution_count": 50,
   "metadata": {},
   "outputs": [
    {
     "data": {
      "image/png": "[encoded data removed]",
      "text/plain": [
       "<Figure size 576x288 with 4 Axes>"
      ]
     },
     "metadata": {
      "needs_background": "light"
     },
     "output_type": "display_data"
    }
   ],
   "source": [
    "print_scoring_matrix(y_train, y_train_pred_svm)"
   ]
  },
  {
   "cell_type": "code",
   "execution_count": 51,
   "metadata": {},
   "outputs": [
    {
     "data": {
      "image/png": "[encoded data removed]",
      "text/plain": [
       "<Figure size 432x288 with 2 Axes>"
      ]
     },
     "metadata": {
      "needs_background": "light"
     },
     "output_type": "display_data"
    }
   ],
   "source": [
    "svm_clf.fit(X_train, y_train.values.ravel())\n",
    "\n",
    "y_train_pred = svm_clf.predict(X_train).astype('int')\n",
    "\n",
    "plot_confusion_matrix(y_train.astype('int'), y_train_pred, svm_clf.classes_, title=\"SVC @ Train\")"
   ]
  },
  {
   "cell_type": "code",
   "execution_count": 58,
   "metadata": {},
   "outputs": [
    {
     "name": "stdout",
     "output_type": "stream",
     "text": [
      "Fitting 5 folds for each of 9 candidates, totalling 45 fits\n"
     ]
    },
    {
     "name": "stderr",
     "output_type": "stream",
     "text": [
      "[Parallel(n_jobs=8)]: Done   9 tasks      | elapsed:   21.3s\n",
      "[Parallel(n_jobs=8)]: Done  42 out of  45 | elapsed:   23.7s remaining:    1.6s\n",
      "[Parallel(n_jobs=8)]: Done  45 out of  45 | elapsed:   23.8s finished\n"
     ]
    },
    {
     "data": {
      "text/plain": [
       "GridSearchCV(cv=5, error_score='raise',\n",
       "       estimator=SVC(C=1.0, cache_size=200, class_weight=None, coef0=0.0,\n",
       "  decision_function_shape='ovr', degree=3, gamma='auto', kernel='rbf',\n",
       "  max_iter=-1, probability=False, random_state=42, shrinking=True,\n",
       "  tol=0.001, verbose=False),\n",
       "       fit_params=None, iid=True, n_jobs=8,\n",
       "       param_grid={'C': [20, 25, 30], 'gamma': [3, 4, 5], 'kernel': ['rbf']},\n",
       "       pre_dispatch='2*n_jobs', refit=True, return_train_score='warn',\n",
       "       scoring='roc_auc', verbose=4)"
      ]
     },
     "execution_count": 58,
     "metadata": {},
     "output_type": "execute_result"
    }
   ],
   "source": [
    "!!!Dont restart, takes much time\n",
    "\n",
    "#param_grid = {'C':[5, 10, 20],'gamma':[0.25,1,3], 'kernel':['rbf']}\n",
    "param_grid = {'C':[20,25,30],'gamma':[3,4,5], 'kernel':['rbf']}\n",
    "clf = SVC(random_state=42)\n",
    "\n",
    "\n",
    "grid_search = GridSearchCV(clf, param_grid, cv=5, verbose=4, n_jobs=8, scoring=\"roc_auc\")\n",
    "grid_search.fit(X_train, y_train.values.ravel())"
   ]
  },
  {
   "cell_type": "code",
   "execution_count": 59,
   "metadata": {},
   "outputs": [
    {
     "data": {
      "text/plain": [
       "{'C': 25, 'gamma': 5, 'kernel': 'rbf'}"
      ]
     },
     "execution_count": 59,
     "metadata": {},
     "output_type": "execute_result"
    }
   ],
   "source": [
    "grid_search.best_params_"
   ]
  },
  {
   "cell_type": "code",
   "execution_count": 60,
   "metadata": {},
   "outputs": [
    {
     "data": {
      "text/plain": [
       "0.9961739800982256"
      ]
     },
     "execution_count": 60,
     "metadata": {},
     "output_type": "execute_result"
    }
   ],
   "source": [
    "grid_search.best_score_"
   ]
  },
  {
   "cell_type": "code",
   "execution_count": 61,
   "metadata": {},
   "outputs": [
    {
     "data": {
      "image/png": "[encoded data removed]",
      "text/plain": [
       "<Figure size 1152x576 with 2 Axes>"
      ]
     },
     "metadata": {
      "needs_background": "light"
     },
     "output_type": "display_data"
    }
   ],
   "source": [
    "svm_clf = SVC(kernel=\"rbf\", C=20, gamma=3, probability=True)\n",
    "svm_clf = SVC(kernel=\"rbf\", C=25, gamma=5, probability=True)\n",
    "\n",
    "svm_clf.fit(X_train, y_train.values.ravel())\n",
    "\n",
    "y_train_pred = svm_clf.predict(X_train).astype('int')\n",
    "\n",
    "plot_confusion_matrix(y_train.astype('int'), y_train_pred, svm_clf.classes_, title=\"SVC @ Train (tuned)\")"
   ]
  },
  {
   "cell_type": "code",
   "execution_count": 66,
   "metadata": {},
   "outputs": [
    {
     "name": "stdout",
     "output_type": "stream",
     "text": [
      "Fitting 3 folds for each of 20 candidates, totalling 60 fits\n"
     ]
    },
    {
     "name": "stderr",
     "output_type": "stream",
     "text": [
      "[Parallel(n_jobs=8)]: Done  34 tasks      | elapsed:   30.1s\n",
      "[Parallel(n_jobs=8)]: Done  56 out of  60 | elapsed:   37.0s remaining:    2.6s\n",
      "[Parallel(n_jobs=8)]: Done  60 out of  60 | elapsed:   37.6s finished\n"
     ]
    },
    {
     "data": {
      "text/plain": [
       "RandomizedSearchCV(cv=3, error_score='raise',\n",
       "          estimator=SVC(C=1.0, cache_size=200, class_weight=None, coef0=0.0,\n",
       "  decision_function_shape='ovr', degree=3, gamma='auto', kernel='rbf',\n",
       "  max_iter=-1, probability=True, random_state=42, shrinking=True,\n",
       "  tol=0.001, verbose=False),\n",
       "          fit_params=None, iid=True, n_iter=20, n_jobs=8,\n",
       "          param_distributions={'C': <scipy.stats._distn_infrastructure.rv_frozen object at 0x000000000543F0B8>, 'gamma': <scipy.stats._distn_infrastructure.rv_frozen object at 0x0000000038598748>},\n",
       "          pre_dispatch='2*n_jobs', random_state=42, refit=True,\n",
       "          return_train_score='warn', scoring='precision', verbose=6)"
      ]
     },
     "execution_count": 66,
     "metadata": {},
     "output_type": "execute_result"
    }
   ],
   "source": [
    "from sklearn.model_selection import RandomizedSearchCV\n",
    "from scipy import stats\n",
    "from sklearn.metrics import make_scorer, roc_auc_score\n",
    "\n",
    "mdl = SVC(probability = True, random_state = 42, kernel=\"rbf\")\n",
    "\n",
    "rand_list = {\"C\": stats.uniform(35, 20),\n",
    "             \"gamma\": stats.uniform(5, 10)}\n",
    "              \n",
    "rand_search = RandomizedSearchCV(mdl, param_distributions = rand_list, n_iter = 20,\n",
    "                                 n_jobs = 8, verbose=6, cv = 3, random_state = 42, scoring = 'precision')\n",
    "\n",
    "rand_search.fit(X_train, y_train.values.ravel())"
   ]
  },
  {
   "cell_type": "code",
   "execution_count": 67,
   "metadata": {},
   "outputs": [
    {
     "data": {
      "text/plain": [
       "{'C': 46.84829137724085, 'gamma': 5.4645041271999775}"
      ]
     },
     "execution_count": 67,
     "metadata": {},
     "output_type": "execute_result"
    }
   ],
   "source": [
    "rand_search.best_params_"
   ]
  },
  {
   "cell_type": "code",
   "execution_count": 68,
   "metadata": {},
   "outputs": [
    {
     "data": {
      "text/plain": [
       "0.9975277414593102"
      ]
     },
     "execution_count": 68,
     "metadata": {},
     "output_type": "execute_result"
    }
   ],
   "source": [
    "rand_search.best_score_"
   ]
  },
  {
   "cell_type": "code",
   "execution_count": 69,
   "metadata": {},
   "outputs": [
    {
     "data": {
      "image/png": "[encoded data removed]",
      "text/plain": [
       "<Figure size 1152x576 with 2 Axes>"
      ]
     },
     "metadata": {
      "needs_background": "light"
     },
     "output_type": "display_data"
    }
   ],
   "source": [
    "svm_clf = SVC(kernel=\"rbf\", C=46.84, gamma=5.464, random_state=42, probability=True)\n",
    "\n",
    "svm_clf.fit(X_train, y_train.values.ravel())\n",
    "\n",
    "y_train_pred = svm_clf.predict(X_train).astype('int')\n",
    "\n",
    "plot_confusion_matrix(y_train.astype('int'), y_train_pred, svm_clf.classes_, title=\"SVC @ Train (tuned+)\")"
   ]
  },
  {
   "cell_type": "code",
   "execution_count": 70,
   "metadata": {},
   "outputs": [
    {
     "data": {
      "image/png": "[encoded data removed]",
      "text/plain": [
       "<Figure size 1152x576 with 2 Axes>"
      ]
     },
     "metadata": {
      "needs_background": "light"
     },
     "output_type": "display_data"
    }
   ],
   "source": [
    "y_test_pred = svm_clf.predict(X_test).astype('int')\n",
    "\n",
    "plot_confusion_matrix(y_test.astype('int'), y_test_pred, svm_clf.classes_, title=\"SVC @ Test (tuned+)\")"
   ]
  },
  {
   "cell_type": "code",
   "execution_count": 71,
   "metadata": {},
   "outputs": [
    {
     "data": {
      "image/png": "[encoded data removed]",
      "text/plain": [
       "<Figure size 1152x576 with 2 Axes>"
      ]
     },
     "metadata": {
      "needs_background": "light"
     },
     "output_type": "display_data"
    }
   ],
   "source": [
    "### Tune by PROB ###\n",
    "\n",
    "y_train_pred = svm_clf.predict(X_train).astype('int')\n",
    "\n",
    "plot_confusion_matrix(y_train.astype('int'), y_train_pred, svm_clf.classes_, title=\"SVC @ Train prob=default\")"
   ]
  },
  {
   "cell_type": "code",
   "execution_count": 76,
   "metadata": {},
   "outputs": [
    {
     "data": {
      "image/png": "[encoded data removed]",
      "text/plain": [
       "<Figure size 1152x576 with 1 Axes>"
      ]
     },
     "metadata": {
      "needs_background": "light"
     },
     "output_type": "display_data"
    }
   ],
   "source": [
    "precisions, recalls, thresholds = precision_recall_curve(y_train, y_train_pred)\n",
    "\n",
    "plt.figure(figsize=(16, 8))\n",
    "plot_precision_recall_vs_threshold(precisions, recalls, thresholds)\n",
    "plt.xlim([0.8, 1])\n",
    "plt.ylim([0.8, 1])\n",
    "\n",
    "plt.show()"
   ]
  },
  {
   "cell_type": "code",
   "execution_count": 80,
   "metadata": {
    "scrolled": false
   },
   "outputs": [
    {
     "data": {
      "image/png": "[encoded data removed]",
      "text/plain": [
       "<Figure size 1152x576 with 2 Axes>"
      ]
     },
     "metadata": {
      "needs_background": "light"
     },
     "output_type": "display_data"
    }
   ],
   "source": [
    "### PROB PREDICTION ###\n",
    "prob = 0.98\n",
    "y_train_pred = (svm_clf.predict_proba(X_train)[:,1] >=prob).astype(int)\n",
    "\n",
    "plot_confusion_matrix(y_train.astype('int'), y_train_pred, svm_clf.classes_, title=\"SVC @ Train prob=\" + str(prob))"
   ]
  },
  {
   "cell_type": "code",
   "execution_count": 98,
   "metadata": {},
   "outputs": [
    {
     "data": {
      "image/png": "[encoded data removed]",
      "text/plain": [
       "<Figure size 1152x576 with 1 Axes>"
      ]
     },
     "metadata": {
      "needs_background": "light"
     },
     "output_type": "display_data"
    }
   ],
   "source": [
    "forest_clf.fit(X_train, y_train.values.ravel())\n",
    "\n",
    "y_train_pred = forest_clf.predict(X_train).astype('int')\n",
    "\n",
    "precisions, recalls, thresholds = precision_recall_curve(y_train, y_train_pred)\n",
    "\n",
    "\n",
    "plt.figure(figsize=(16, 8))\n",
    "plot_precision_recall_vs_threshold(precisions, recalls, thresholds)\n",
    "plt.xlim([0.9, 1])\n",
    "plt.ylim([0.9, 1])\n",
    "\n",
    "plt.show()"
   ]
  },
  {
   "cell_type": "code",
   "execution_count": 103,
   "metadata": {},
   "outputs": [
    {
     "data": {
      "image/png": "[encoded data removed]",
      "text/plain": [
       "<Figure size 1152x576 with 2 Axes>"
      ]
     },
     "metadata": {
      "needs_background": "light"
     },
     "output_type": "display_data"
    }
   ],
   "source": [
    "prob = 0.99\n",
    "y_train_pred = (forest_clf.predict_proba(X_train)[:,1] >= prob).astype(int)\n",
    "\n",
    "plot_confusion_matrix(y_train.astype('int'), y_train_pred, forest_clf.classes_, title=\"RFC @ Train prob=\" + str(prob))"
   ]
  },
  {
   "cell_type": "code",
   "execution_count": 105,
   "metadata": {},
   "outputs": [
    {
     "data": {
      "image/png": "[encoded data removed]",
      "text/plain": [
       "<Figure size 1152x576 with 2 Axes>"
      ]
     },
     "metadata": {
      "needs_background": "light"
     },
     "output_type": "display_data"
    }
   ],
   "source": [
    "prob = 0.99\n",
    "\n",
    "y_test_pred = (forest_clf.predict_proba(X_test)[:,1] >= prob).astype(int)\n",
    "\n",
    "plot_confusion_matrix(y_test.astype('int'), y_test_pred, forest_clf.classes_, title=\"RFC @ Test prob=\" + str(prob))"
   ]
  },
  {
   "cell_type": "code",
   "execution_count": null,
   "metadata": {},
   "outputs": [],
   "source": []
  }
 ],
 "metadata": {
  "kernelspec": {
   "display_name": "Python 3",
   "language": "python",
   "name": "python3"
  },
  "language_info": {
   "codemirror_mode": {
    "name": "ipython",
    "version": 3
   },
   "file_extension": ".py",
   "mimetype": "text/x-python",
   "name": "python",
   "nbconvert_exporter": "python",
   "pygments_lexer": "ipython3",
   "version": "3.7.0"
  }
 },
 "nbformat": 4,
 "nbformat_minor": 2
}
